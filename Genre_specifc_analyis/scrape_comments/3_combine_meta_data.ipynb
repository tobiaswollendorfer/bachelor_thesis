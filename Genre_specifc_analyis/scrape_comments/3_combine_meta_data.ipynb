{
 "cells": [
  {
   "cell_type": "code",
   "execution_count": 37,
   "id": "53759058-edfc-4154-b3d4-caaad5ac0a19",
   "metadata": {},
   "outputs": [],
   "source": [
    "import pandas as pd\n",
    "import os"
   ]
  },
  {
   "cell_type": "code",
   "execution_count": 38,
   "id": "e9e54b88-2e7d-403e-b605-d5cb14461728",
   "metadata": {
    "scrolled": true
   },
   "outputs": [
    {
     "name": "stdout",
     "output_type": "stream",
     "text": [
      "[7038] No metadata found for videoId: NtGgj5zhM84\n"
     ]
    }
   ],
   "source": [
    "video_metadata = pd.read_csv(\"video_metadata.csv\")\n",
    "all_files = os.listdir(\"comments/preprocessed_with_vader\")\n",
    "output_folder = \"comments/preprocessed_vader_incl_meta\"\n",
    "os.makedirs(output_folder, exist_ok=True)\n",
    "\n",
    "rows = video_metadata.columns\n",
    "for idx, filename in enumerate(all_files, 1):\n",
    "    if not filename.endswith(\".csv\"):\n",
    "        continue\n",
    "\n",
    "    file_path = os.path.join(\"comments/preprocessed_with_vader\", filename)\n",
    "\n",
    "    base_name = filename.replace('.csv', '')\n",
    "    output_filename = f\"{base_name}_combined.csv\"\n",
    "    output_path = os.path.join(output_folder, output_filename)\n",
    "\n",
    "    try:\n",
    "        df = pd.read_csv(file_path)\n",
    "        video_id = df['videoId'][0] \n",
    "\n",
    "        meta_row = video_metadata[video_metadata['videoId'] == video_id]\n",
    "\n",
    "        if meta_row.empty:\n",
    "            print(f\"[{idx}] No metadata found for videoId: {video_id}\")\n",
    "            continue\n",
    "\n",
    "        combined_df = df.merge(meta_row, on=\"videoId\", how=\"left\")\n",
    "\n",
    "        combined_df.to_csv(output_path, index=False)\n",
    "\n",
    "    except Exception as e:\n",
    "        print(f\"[{idx}] Error processing {filename}: {e}\")\n"
   ]
  },
  {
   "cell_type": "code",
   "execution_count": null,
   "id": "8ade6983-c3c3-4ff6-a889-cf30647f1486",
   "metadata": {},
   "outputs": [],
   "source": []
  }
 ],
 "metadata": {
  "kernelspec": {
   "display_name": "Python (bachelor_thesis)",
   "language": "python",
   "name": "bachelor_thesis"
  },
  "language_info": {
   "codemirror_mode": {
    "name": "ipython",
    "version": 3
   },
   "file_extension": ".py",
   "mimetype": "text/x-python",
   "name": "python",
   "nbconvert_exporter": "python",
   "pygments_lexer": "ipython3",
   "version": "3.12.9"
  }
 },
 "nbformat": 4,
 "nbformat_minor": 5
}
